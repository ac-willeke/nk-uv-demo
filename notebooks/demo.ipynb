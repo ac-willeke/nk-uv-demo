{
 "cells": [
  {
   "cell_type": "markdown",
   "id": "44efa971",
   "metadata": {},
   "source": [
    "# Demo notebook "
   ]
  },
  {
   "cell_type": "code",
   "execution_count": null,
   "id": "4182bf10",
   "metadata": {},
   "outputs": [],
   "source": [
    "# Test import of local package \"nk-uv-demo\"\n",
    "import nk_uv_demo"
   ]
  },
  {
   "cell_type": "code",
   "execution_count": null,
   "id": "a3fdf1ec",
   "metadata": {},
   "outputs": [
    {
     "name": "stdout",
     "output_type": "stream",
     "text": [
      "Hello from nk-uv-demo!\n"
     ]
    }
   ],
   "source": [
    "# run entrypoint\n",
    "nk_uv_demo.main()"
   ]
  }
 ],
 "metadata": {
  "kernelspec": {
   "display_name": "nk-uv-demo",
   "language": "python",
   "name": "python3"
  },
  "language_info": {
   "codemirror_mode": {
    "name": "ipython",
    "version": 3
   },
   "file_extension": ".py",
   "mimetype": "text/x-python",
   "name": "python",
   "nbconvert_exporter": "python",
   "pygments_lexer": "ipython3",
   "version": "3.12.3"
  }
 },
 "nbformat": 4,
 "nbformat_minor": 5
}
